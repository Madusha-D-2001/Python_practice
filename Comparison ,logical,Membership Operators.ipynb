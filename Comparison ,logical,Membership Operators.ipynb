{
 "cells": [
  {
   "cell_type": "markdown",
   "id": "dff3913d-e654-4918-8f85-8d25b1ad54a3",
   "metadata": {},
   "source": [
    "Comparison ,logical,Membership Operators "
   ]
  },
  {
   "cell_type": "code",
   "execution_count": 1,
   "id": "62f2298b-0ea6-4ad1-a58d-678c36d8c9f0",
   "metadata": {},
   "outputs": [
    {
     "data": {
      "text/plain": [
       "True"
      ]
     },
     "execution_count": 1,
     "metadata": {},
     "output_type": "execute_result"
    }
   ],
   "source": [
    "10 == 10"
   ]
  },
  {
   "cell_type": "code",
   "execution_count": 2,
   "id": "c2b61797-c754-472a-a35e-3969ddf3a7f3",
   "metadata": {},
   "outputs": [
    {
     "data": {
      "text/plain": [
       "False"
      ]
     },
     "execution_count": 2,
     "metadata": {},
     "output_type": "execute_result"
    }
   ],
   "source": [
    "10 == 50"
   ]
  },
  {
   "cell_type": "code",
   "execution_count": 3,
   "id": "e33e125c-ad3a-475a-9e4c-89bd892e4615",
   "metadata": {},
   "outputs": [
    {
     "data": {
      "text/plain": [
       "True"
      ]
     },
     "execution_count": 3,
     "metadata": {},
     "output_type": "execute_result"
    }
   ],
   "source": [
    "10 != 50"
   ]
  },
  {
   "cell_type": "code",
   "execution_count": 4,
   "id": "64b03b87-e677-44fc-97ee-cfef0752bef2",
   "metadata": {},
   "outputs": [
    {
     "data": {
      "text/plain": [
       "False"
      ]
     },
     "execution_count": 4,
     "metadata": {},
     "output_type": "execute_result"
    }
   ],
   "source": [
    "'vanilla' == 'Chocalate'"
   ]
  },
  {
   "cell_type": "code",
   "execution_count": 5,
   "id": "b8131225-f829-4736-8791-626660ab2fe7",
   "metadata": {},
   "outputs": [
    {
     "data": {
      "text/plain": [
       "True"
      ]
     },
     "execution_count": 5,
     "metadata": {},
     "output_type": "execute_result"
    }
   ],
   "source": [
    "'vanilla' != 'Chocalate'"
   ]
  },
  {
   "cell_type": "code",
   "execution_count": 6,
   "id": "9eb86d76-af98-4111-83e4-f601e17d6ecd",
   "metadata": {},
   "outputs": [
    {
     "data": {
      "text/plain": [
       "False"
      ]
     },
     "execution_count": 6,
     "metadata": {},
     "output_type": "execute_result"
    }
   ],
   "source": [
    "x = 'vanilla'\n",
    "y = 'Faluda'\n",
    "\n",
    "x == y"
   ]
  },
  {
   "cell_type": "code",
   "execution_count": 7,
   "id": "ecb186fd-19e6-4af6-b566-6ea7cd1af9f3",
   "metadata": {},
   "outputs": [
    {
     "data": {
      "text/plain": [
       "True"
      ]
     },
     "execution_count": 7,
     "metadata": {},
     "output_type": "execute_result"
    }
   ],
   "source": [
    "x = 'vanilla'\n",
    "y = 'Faluda'\n",
    "\n",
    "x != y"
   ]
  },
  {
   "cell_type": "code",
   "execution_count": 8,
   "id": "5a8e4ce3-ecec-4d70-a098-0e47c2723f1b",
   "metadata": {},
   "outputs": [
    {
     "data": {
      "text/plain": [
       "True"
      ]
     },
     "execution_count": 8,
     "metadata": {},
     "output_type": "execute_result"
    }
   ],
   "source": [
    "10 < 50"
   ]
  },
  {
   "cell_type": "code",
   "execution_count": 9,
   "id": "dfebd07b-27df-4093-8a52-5035a5303e51",
   "metadata": {},
   "outputs": [
    {
     "data": {
      "text/plain": [
       "False"
      ]
     },
     "execution_count": 9,
     "metadata": {},
     "output_type": "execute_result"
    }
   ],
   "source": [
    "10 > 10"
   ]
  },
  {
   "cell_type": "code",
   "execution_count": 10,
   "id": "fb2473bc-6c14-46df-863b-8acf5b147ad7",
   "metadata": {},
   "outputs": [
    {
     "data": {
      "text/plain": [
       "True"
      ]
     },
     "execution_count": 10,
     "metadata": {},
     "output_type": "execute_result"
    }
   ],
   "source": [
    "10 >= 10"
   ]
  },
  {
   "cell_type": "code",
   "execution_count": 11,
   "id": "ce07b7d0-5a9b-4e1d-9d2c-212024d9aee9",
   "metadata": {},
   "outputs": [
    {
     "data": {
      "text/plain": [
       "True"
      ]
     },
     "execution_count": 11,
     "metadata": {},
     "output_type": "execute_result"
    }
   ],
   "source": [
    "50 <= 54"
   ]
  },
  {
   "cell_type": "code",
   "execution_count": 12,
   "id": "2bdaa3cf-ff05-4bfa-a595-16a80d03b42f",
   "metadata": {},
   "outputs": [
    {
     "data": {
      "text/plain": [
       "True"
      ]
     },
     "execution_count": 12,
     "metadata": {},
     "output_type": "execute_result"
    }
   ],
   "source": [
    "(70 > 50) and (10<50)"
   ]
  },
  {
   "cell_type": "code",
   "execution_count": 13,
   "id": "b482e9c2-8b6e-4c39-851d-77cda83105d6",
   "metadata": {},
   "outputs": [
    {
     "data": {
      "text/plain": [
       "False"
      ]
     },
     "execution_count": 13,
     "metadata": {},
     "output_type": "execute_result"
    }
   ],
   "source": [
    "(70 > 50) and (70 < 50)"
   ]
  },
  {
   "cell_type": "code",
   "execution_count": 14,
   "id": "f902c2aa-d2fa-4a6b-98e7-3f1e3cb4637a",
   "metadata": {},
   "outputs": [
    {
     "data": {
      "text/plain": [
       "True"
      ]
     },
     "execution_count": 14,
     "metadata": {},
     "output_type": "execute_result"
    }
   ],
   "source": [
    "(70 > 50) or (70<50)"
   ]
  },
  {
   "cell_type": "code",
   "execution_count": 16,
   "id": "73114c24-6a81-44cf-b453-5b5357697bd2",
   "metadata": {},
   "outputs": [
    {
     "data": {
      "text/plain": [
       "True"
      ]
     },
     "execution_count": 16,
     "metadata": {},
     "output_type": "execute_result"
    }
   ],
   "source": [
    "('vanilla' > 'chocolate') and (60> 30)"
   ]
  },
  {
   "cell_type": "code",
   "execution_count": 17,
   "id": "2c7b5a49-e139-4886-9c85-12b9e616f698",
   "metadata": {},
   "outputs": [
    {
     "data": {
      "text/plain": [
       "False"
      ]
     },
     "execution_count": 17,
     "metadata": {},
     "output_type": "execute_result"
    }
   ],
   "source": [
    "not (50>20)"
   ]
  },
  {
   "cell_type": "code",
   "execution_count": 20,
   "id": "1212cef6-f3f4-497f-96fa-527fe9b0e595",
   "metadata": {},
   "outputs": [
    {
     "data": {
      "text/plain": [
       "True"
      ]
     },
     "execution_count": 20,
     "metadata": {},
     "output_type": "execute_result"
    }
   ],
   "source": [
    "ice_cream = 'I love eating ice cream'\n",
    "\n",
    "'love' in ice_cream"
   ]
  },
  {
   "cell_type": "code",
   "execution_count": 21,
   "id": "51e442c9-4805-4981-92ed-33831a7b220e",
   "metadata": {},
   "outputs": [
    {
     "data": {
      "text/plain": [
       "True"
      ]
     },
     "execution_count": 21,
     "metadata": {},
     "output_type": "execute_result"
    }
   ],
   "source": [
    "ice_cream = 'I love eating ice cream'\n",
    "'love ' in 'I love eating ice cream'"
   ]
  },
  {
   "cell_type": "code",
   "execution_count": 22,
   "id": "ff6e482f-8c78-4351-91bb-9c4cfe378ed6",
   "metadata": {},
   "outputs": [
    {
     "data": {
      "text/plain": [
       "True"
      ]
     },
     "execution_count": 22,
     "metadata": {},
     "output_type": "execute_result"
    }
   ],
   "source": [
    "scoops = [1,2,3,4,5,6]\n",
    "number = [8,9,10]\n",
    "\n",
    "4 in scoops"
   ]
  },
  {
   "cell_type": "code",
   "execution_count": 23,
   "id": "4c08d7e1-6645-4dda-9e02-4941571b0153",
   "metadata": {},
   "outputs": [
    {
     "data": {
      "text/plain": [
       "False"
      ]
     },
     "execution_count": 23,
     "metadata": {},
     "output_type": "execute_result"
    }
   ],
   "source": [
    "7 in scoops"
   ]
  },
  {
   "cell_type": "code",
   "execution_count": 24,
   "id": "fe4ad6e3-c68f-4580-ae2c-d70da2d63c51",
   "metadata": {},
   "outputs": [
    {
     "data": {
      "text/plain": [
       "True"
      ]
     },
     "execution_count": 24,
     "metadata": {},
     "output_type": "execute_result"
    }
   ],
   "source": [
    "number not in scoops"
   ]
  }
 ],
 "metadata": {
  "kernelspec": {
   "display_name": "Python 3 (ipykernel)",
   "language": "python",
   "name": "python3"
  },
  "language_info": {
   "codemirror_mode": {
    "name": "ipython",
    "version": 3
   },
   "file_extension": ".py",
   "mimetype": "text/x-python",
   "name": "python",
   "nbconvert_exporter": "python",
   "pygments_lexer": "ipython3",
   "version": "3.12.7"
  }
 },
 "nbformat": 4,
 "nbformat_minor": 5
}
