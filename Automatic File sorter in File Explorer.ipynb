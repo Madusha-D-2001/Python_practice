{
 "cells": [
  {
   "cell_type": "markdown",
   "id": "9b605b17-5a4b-428f-a99d-075d3bf0932b",
   "metadata": {},
   "source": [
    "Automatic File sorter in File Explorer\n",
    "\n",
    "1.Check whether the folders that need to store particular type of files are exist in the current path if not,create the folders\n",
    "2.Check the files and their types and check if they are aleady in the relavant folders if not store them in thier matching folder"
   ]
  },
  {
   "cell_type": "code",
   "execution_count": 10,
   "id": "0603be2b-6f49-4b23-ba47-1cbb649733dd",
   "metadata": {},
   "outputs": [],
   "source": [
    "import os,shutil"
   ]
  },
  {
   "cell_type": "code",
   "execution_count": 11,
   "id": "8d394b6a-ca24-42c9-8ece-c28612e631fb",
   "metadata": {},
   "outputs": [],
   "source": [
    "path =r\"C:/Users/RAPID DASHBOARD/Documents/python practice/\""
   ]
  },
  {
   "cell_type": "code",
   "execution_count": 12,
   "id": "ebb785e2-d192-49e3-8373-44e649489cb3",
   "metadata": {},
   "outputs": [],
   "source": [
    "file_name = os.listdir(path)"
   ]
  },
  {
   "cell_type": "code",
   "execution_count": 13,
   "id": "dfcaf2fe-c788-4f85-b0c8-978747da07af",
   "metadata": {},
   "outputs": [
    {
     "name": "stdout",
     "output_type": "stream",
     "text": [
      "C:/Users/RAPID DASHBOARD/Documents/python practice/csv files\n",
      "C:/Users/RAPID DASHBOARD/Documents/python practice/image files\n",
      "C:/Users/RAPID DASHBOARD/Documents/python practice/text files\n"
     ]
    }
   ],
   "source": [
    "folder_names = ['csv files','image files','text files']\n",
    "\n",
    "for loop in range(0,3):\n",
    "    if not os.path.exists(path+folder_names[loop]):\n",
    "         os.makedirs(path+folder_names[loop])\n",
    "   \n",
    "\n",
    "for file in file_name:\n",
    "    if \".csv\" in file and not os.path.exists(path+\"csv files/\"+file):\n",
    "        shutil.move(path+file,path+\"csv files/\"+file)\n",
    "    elif \".png\" in file and not os.path.exists(path+\"image files/\"+file):\n",
    "        shutil.move(path+file,path+\"image files/\"+file)\n",
    "    elif \".txt\" in file and not os.path.exists(path+\"text files/\"+file):\n",
    "        shutil.move(path+file,path+\"text files/\"+file)"
   ]
  }
 ],
 "metadata": {
  "kernelspec": {
   "display_name": "Python 3 (ipykernel)",
   "language": "python",
   "name": "python3"
  },
  "language_info": {
   "codemirror_mode": {
    "name": "ipython",
    "version": 3
   },
   "file_extension": ".py",
   "mimetype": "text/x-python",
   "name": "python",
   "nbconvert_exporter": "python",
   "pygments_lexer": "ipython3",
   "version": "3.12.7"
  }
 },
 "nbformat": 4,
 "nbformat_minor": 5
}
