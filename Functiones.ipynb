{
 "cells": [
  {
   "cell_type": "markdown",
   "id": "b721b9e4-7a78-4ef6-823c-772263fb030c",
   "metadata": {},
   "source": [
    "FUNCTIONS"
   ]
  },
  {
   "cell_type": "code",
   "execution_count": 1,
   "id": "cdf15290-5a84-43a3-8c90-84b81a6859aa",
   "metadata": {},
   "outputs": [],
   "source": [
    "def function ():\n",
    "    print('we did it!')"
   ]
  },
  {
   "cell_type": "code",
   "execution_count": 3,
   "id": "3f498166-c435-4c89-9b52-2fff6b2a1013",
   "metadata": {},
   "outputs": [
    {
     "name": "stdout",
     "output_type": "stream",
     "text": [
      "we did it!\n"
     ]
    }
   ],
   "source": [
    "function ()"
   ]
  },
  {
   "cell_type": "code",
   "execution_count": 5,
   "id": "4a8a5b6e-f821-4efd-8d8e-18976bb80518",
   "metadata": {},
   "outputs": [],
   "source": [
    "def squared_number (number):\n",
    "    print(number**2)"
   ]
  },
  {
   "cell_type": "code",
   "execution_count": 6,
   "id": "5cec6924-728b-4aaf-a562-2aa7e20eef78",
   "metadata": {},
   "outputs": [
    {
     "name": "stdout",
     "output_type": "stream",
     "text": [
      "25\n"
     ]
    }
   ],
   "source": [
    "squared_number (5)"
   ]
  },
  {
   "cell_type": "code",
   "execution_count": 7,
   "id": "b70cc4da-b394-4008-aa12-2ecbcc2575ff",
   "metadata": {},
   "outputs": [],
   "source": [
    "def squared_number_cust (number,power):\n",
    "    print(number**power)"
   ]
  },
  {
   "cell_type": "code",
   "execution_count": 8,
   "id": "dd60d48f-fda0-4af0-804b-6a4b79a2b665",
   "metadata": {},
   "outputs": [
    {
     "name": "stdout",
     "output_type": "stream",
     "text": [
      "125\n"
     ]
    }
   ],
   "source": [
    "squared_number_cust (5,3)"
   ]
  },
  {
   "cell_type": "code",
   "execution_count": 9,
   "id": "5ac4666a-d8df-458a-8801-5a2367f0e370",
   "metadata": {},
   "outputs": [],
   "source": [
    "def number_args(*number):\n",
    "    print(number[0]*number[1])"
   ]
  },
  {
   "cell_type": "code",
   "execution_count": 10,
   "id": "4801ff7a-d20f-480b-93cc-7d88664de485",
   "metadata": {},
   "outputs": [
    {
     "name": "stdout",
     "output_type": "stream",
     "text": [
      "10\n"
     ]
    }
   ],
   "source": [
    "number_args(2,5,6,3,8,9,1)"
   ]
  },
  {
   "cell_type": "code",
   "execution_count": 11,
   "id": "85c55eab-cc22-45df-b128-6b07cf026fea",
   "metadata": {},
   "outputs": [],
   "source": [
    "number_tuple = (2,5,6,3,8,9,1)\n",
    "def number_args(*number):\n",
    "    print(number[0]*number[1])"
   ]
  },
  {
   "cell_type": "code",
   "execution_count": 13,
   "id": "2bce581f-68b3-4895-af4a-04373bcd9be1",
   "metadata": {},
   "outputs": [
    {
     "name": "stdout",
     "output_type": "stream",
     "text": [
      "10\n"
     ]
    }
   ],
   "source": [
    "number_args(*number_tuple)"
   ]
  },
  {
   "cell_type": "code",
   "execution_count": 14,
   "id": "dadfd3c8-c074-4f04-9dad-fb6f360f5a55",
   "metadata": {},
   "outputs": [],
   "source": [
    "def squared_number_cust (number,power):\n",
    "    print(number**power)"
   ]
  },
  {
   "cell_type": "code",
   "execution_count": 15,
   "id": "4437cf1c-fdb9-4a58-a112-6ebaaadf7728",
   "metadata": {},
   "outputs": [
    {
     "name": "stdout",
     "output_type": "stream",
     "text": [
      "243\n"
     ]
    }
   ],
   "source": [
    "squared_number_cust (power = 5,number = 3)"
   ]
  },
  {
   "cell_type": "code",
   "execution_count": 25,
   "id": "04055c85-a6c7-417e-b126-5921682662be",
   "metadata": {},
   "outputs": [],
   "source": [
    "def number_kewarg(**number):\n",
    "    print('My Number is:',number['integer']+' and'+' My Other Number is:',number['integer2'])"
   ]
  },
  {
   "cell_type": "code",
   "execution_count": 26,
   "id": "7eed9d1c-6963-49c6-bd78-c9808e7fbc5c",
   "metadata": {},
   "outputs": [
    {
     "name": "stdout",
     "output_type": "stream",
     "text": [
      "My Number is: 3456 and My Other Number is: 7688\n"
     ]
    }
   ],
   "source": [
    "number_kewarg(integer = '3456',integer2 = '7688')"
   ]
  }
 ],
 "metadata": {
  "kernelspec": {
   "display_name": "Python 3 (ipykernel)",
   "language": "python",
   "name": "python3"
  },
  "language_info": {
   "codemirror_mode": {
    "name": "ipython",
    "version": 3
   },
   "file_extension": ".py",
   "mimetype": "text/x-python",
   "name": "python",
   "nbconvert_exporter": "python",
   "pygments_lexer": "ipython3",
   "version": "3.12.7"
  }
 },
 "nbformat": 4,
 "nbformat_minor": 5
}
