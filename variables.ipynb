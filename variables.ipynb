{
 "cells": [
  {
   "cell_type": "markdown",
   "id": "b864d09c-677a-49f8-8847-ec52e864a0b9",
   "metadata": {},
   "source": [
    "Variables in Python"
   ]
  },
  {
   "cell_type": "code",
   "execution_count": 2,
   "id": "fe9adf93-1724-4067-b82a-9913e64b4059",
   "metadata": {},
   "outputs": [
    {
     "name": "stdout",
     "output_type": "stream",
     "text": [
      "20\n"
     ]
    }
   ],
   "source": [
    "x = 20\n",
    "print (x)"
   ]
  },
  {
   "cell_type": "code",
   "execution_count": 3,
   "id": "b8445995-2ea2-4cec-bf0e-20a9727ff507",
   "metadata": {},
   "outputs": [
    {
     "data": {
      "text/plain": [
       "int"
      ]
     },
     "execution_count": 3,
     "metadata": {},
     "output_type": "execute_result"
    }
   ],
   "source": [
    "type(x)"
   ]
  },
  {
   "cell_type": "code",
   "execution_count": 4,
   "id": "e8c026dd-8991-474d-be57-a4bd3fe42282",
   "metadata": {},
   "outputs": [
    {
     "data": {
      "text/plain": [
       "str"
      ]
     },
     "execution_count": 4,
     "metadata": {},
     "output_type": "execute_result"
    }
   ],
   "source": [
    "y = \"ice cream\"\n",
    "type (y)"
   ]
  },
  {
   "cell_type": "code",
   "execution_count": 5,
   "id": "27e35385-45af-4cd1-96ab-82f0d7b6609e",
   "metadata": {},
   "outputs": [
    {
     "name": "stdout",
     "output_type": "stream",
     "text": [
      "vanilla\n"
     ]
    }
   ],
   "source": [
    "y = \"mint choco\"\n",
    "\n",
    "y = \"vanilla\"\n",
    "\n",
    "print(y)"
   ]
  },
  {
   "cell_type": "code",
   "execution_count": 7,
   "id": "db31a88f-d22f-4b09-870c-8e5b6ce399cd",
   "metadata": {},
   "outputs": [
    {
     "name": "stdout",
     "output_type": "stream",
     "text": [
      "Chocolate\n",
      "Vanilla\n",
      "Faluda\n"
     ]
    }
   ],
   "source": [
    "x,y,z = \"Chocolate\",\"Vanilla\",\"Faluda\"\n",
    "print(x)\n",
    "print(y)\n",
    "print(z)"
   ]
  },
  {
   "cell_type": "code",
   "execution_count": 8,
   "id": "763c6d94-94f8-4c3a-9586-5ee10955517b",
   "metadata": {},
   "outputs": [
    {
     "name": "stdout",
     "output_type": "stream",
     "text": [
      "Madusha\n",
      "Madusha\n",
      "Madusha\n"
     ]
    }
   ],
   "source": [
    "x=y=z=\"Madusha\"\n",
    "print (x)\n",
    "print (y)\n",
    "print (z)"
   ]
  },
  {
   "cell_type": "code",
   "execution_count": 9,
   "id": "264af375-3674-4a27-a40c-97bce1d5b32d",
   "metadata": {},
   "outputs": [
    {
     "name": "stdout",
     "output_type": "stream",
     "text": [
      "Chocolate\n",
      "Vanilla\n",
      "Faluda\n"
     ]
    }
   ],
   "source": [
    "ice_cream = [ \"Chocolate\",\"Vanilla\",\"Faluda\"]\n",
    "\n",
    "x,y,z = ice_cream\n",
    "\n",
    "print (x)\n",
    "print (y)\n",
    "print (z)\n"
   ]
  },
  {
   "cell_type": "code",
   "execution_count": null,
   "id": "a0ee33cf-626e-4bb1-8a6e-3fbf6e4937a0",
   "metadata": {},
   "outputs": [],
   "source": [
    "# CAMEL CASE\n",
    "# Test Variable Name\n",
    "testVariableName = \"vanilla\""
   ]
  },
  {
   "cell_type": "code",
   "execution_count": null,
   "id": "729419a0-cfd0-4619-aebe-48e9fa779b24",
   "metadata": {},
   "outputs": [],
   "source": [
    "# PASCAL CASE\n",
    "# Test Variable Name\n",
    "TestVariableName = \"vanilla\""
   ]
  },
  {
   "cell_type": "code",
   "execution_count": null,
   "id": "8fbf0997-d0fc-46f7-a785-85c1f0c9aa07",
   "metadata": {},
   "outputs": [],
   "source": [
    "# SNAKE CASE\n",
    "# Test Variable Name\n",
    "test_variable_name = \"vanilla\""
   ]
  },
  {
   "cell_type": "code",
   "execution_count": 12,
   "id": "7937f380-1f87-4a73-830a-b7da6d9523c2",
   "metadata": {},
   "outputs": [
    {
     "name": "stdout",
     "output_type": "stream",
     "text": [
      "ice cream is my favorite.\n"
     ]
    }
   ],
   "source": [
    "x = \"ice cream is my favorite\" + \".\"\n",
    "print(x)"
   ]
  },
  {
   "cell_type": "code",
   "execution_count": 14,
   "id": "5d140766-4f7e-4025-89d8-64860ac6def4",
   "metadata": {},
   "outputs": [
    {
     "name": "stdout",
     "output_type": "stream",
     "text": [
      "11\n"
     ]
    }
   ],
   "source": [
    "x = 5+6\n",
    "print(x)"
   ]
  },
  {
   "cell_type": "code",
   "execution_count": 16,
   "id": "4092ab26-1bd0-4011-9078-c7320feba3a9",
   "metadata": {},
   "outputs": [
    {
     "name": "stdout",
     "output_type": "stream",
     "text": [
      "ice cream is my favourite\n"
     ]
    }
   ],
   "source": [
    "x =\"ice cream\"\n",
    "y=\" is\"\n",
    "z=\" my favourite\"\n",
    "\n",
    "print(x+y+z)"
   ]
  },
  {
   "cell_type": "code",
   "execution_count": 17,
   "id": "1e45a644-a194-4acc-a5ad-9f1d75c38563",
   "metadata": {},
   "outputs": [
    {
     "name": "stdout",
     "output_type": "stream",
     "text": [
      "19\n"
     ]
    }
   ],
   "source": [
    "x = 6\n",
    "y = 8\n",
    "z = 5\n",
    "print(x+y+z)"
   ]
  },
  {
   "cell_type": "code",
   "execution_count": 18,
   "id": "b6f4640a-bd70-498b-8b64-c2d781c154e3",
   "metadata": {},
   "outputs": [
    {
     "name": "stdout",
     "output_type": "stream",
     "text": [
      "ice cream 2\n"
     ]
    }
   ],
   "source": [
    "x = \"ice cream\"\n",
    "y = 2\n",
    "print(x,y)"
   ]
  },
  {
   "cell_type": "code",
   "execution_count": null,
   "id": "a83b4e08-8019-4ee9-9612-eddaf0d3d47f",
   "metadata": {},
   "outputs": [],
   "source": []
  }
 ],
 "metadata": {
  "kernelspec": {
   "display_name": "Python 3 (ipykernel)",
   "language": "python",
   "name": "python3"
  },
  "language_info": {
   "codemirror_mode": {
    "name": "ipython",
    "version": 3
   },
   "file_extension": ".py",
   "mimetype": "text/x-python",
   "name": "python",
   "nbconvert_exporter": "python",
   "pygments_lexer": "ipython3",
   "version": "3.12.7"
  }
 },
 "nbformat": 4,
 "nbformat_minor": 5
}
