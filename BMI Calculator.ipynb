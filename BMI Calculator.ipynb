{
 "cells": [
  {
   "cell_type": "markdown",
   "id": "d65e9e13-f5e5-4ae0-b379-5c432725c599",
   "metadata": {},
   "source": [
    "BMI CALCULATOR"
   ]
  },
  {
   "cell_type": "code",
   "execution_count": 8,
   "id": "6ea1a092-b504-497e-848d-856375327aa1",
   "metadata": {},
   "outputs": [
    {
     "name": "stdin",
     "output_type": "stream",
     "text": [
      "Enter your name: Madusha\n",
      "Enter your weight in pounds 170\n",
      "Enter your height in inches 70\n"
     ]
    },
    {
     "name": "stdout",
     "output_type": "stream",
     "text": [
      "BMI :  24.389795918367348\n",
      "Madusha, You are normal weight\n"
     ]
    }
   ],
   "source": [
    "name = input(\"Enter your name:\")\n",
    "weight = int(input(\"Enter your weight in pounds\"))\n",
    "height = int(input(\"Enter your height in inches\"))\n",
    "BMI = (weight*703)/(height*height)\n",
    "print ('BMI : ',BMI)\n",
    "\n",
    "if BMI>0:\n",
    "    if(BMI<18.5):\n",
    "        print(name +\", You are underweight\")\n",
    "    elif(BMI<=24.9):\n",
    "        print(name +\", You are normal weight\")\n",
    "    elif(BMI<29.9):\n",
    "        print(name +\", You are overweight\") \n",
    "    elif(BMI<34.9):\n",
    "        print(name +\", You are obese\")\n",
    "    elif(BMI<39.9):\n",
    "        print(name +\", You are severely obese\")\n",
    "    else:\n",
    "        print(name +\"You are mobidly obese\")\n",
    "\n",
    "else:\n",
    "    print(\"Enter valid input\")"
   ]
  }
 ],
 "metadata": {
  "kernelspec": {
   "display_name": "Python 3 (ipykernel)",
   "language": "python",
   "name": "python3"
  },
  "language_info": {
   "codemirror_mode": {
    "name": "ipython",
    "version": 3
   },
   "file_extension": ".py",
   "mimetype": "text/x-python",
   "name": "python",
   "nbconvert_exporter": "python",
   "pygments_lexer": "ipython3",
   "version": "3.12.7"
  }
 },
 "nbformat": 4,
 "nbformat_minor": 5
}
