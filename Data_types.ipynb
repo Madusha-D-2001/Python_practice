{
 "cells": [
  {
   "cell_type": "markdown",
   "id": "4369ef78-0fe8-4e9e-b0f6-d40b1da96ad7",
   "metadata": {},
   "source": [
    "Data Types"
   ]
  },
  {
   "cell_type": "code",
   "execution_count": 1,
   "id": "41c4b979-d98e-49d4-9fe5-563c2801fb96",
   "metadata": {},
   "outputs": [
    {
     "data": {
      "text/plain": [
       "int"
      ]
     },
     "execution_count": 1,
     "metadata": {},
     "output_type": "execute_result"
    }
   ],
   "source": [
    "type (-12 + 100)"
   ]
  },
  {
   "cell_type": "code",
   "execution_count": 2,
   "id": "cca2620b-0bc1-4e85-9266-9581ecf5c83d",
   "metadata": {},
   "outputs": [
    {
     "data": {
      "text/plain": [
       "float"
      ]
     },
     "execution_count": 2,
     "metadata": {},
     "output_type": "execute_result"
    }
   ],
   "source": [
    "type(12 + 10.20 )"
   ]
  },
  {
   "cell_type": "code",
   "execution_count": 3,
   "id": "e50a0bc1-fb72-411b-a6a5-de850f987f01",
   "metadata": {},
   "outputs": [
    {
     "data": {
      "text/plain": [
       "complex"
      ]
     },
     "execution_count": 3,
     "metadata": {},
     "output_type": "execute_result"
    }
   ],
   "source": [
    "type(12+10j)"
   ]
  },
  {
   "cell_type": "code",
   "execution_count": 4,
   "id": "94602356-24e2-435b-b719-9bd4b41ffe76",
   "metadata": {},
   "outputs": [
    {
     "data": {
      "text/plain": [
       "bool"
      ]
     },
     "execution_count": 4,
     "metadata": {},
     "output_type": "execute_result"
    }
   ],
   "source": [
    "type(5>2)"
   ]
  },
  {
   "cell_type": "code",
   "execution_count": 5,
   "id": "fd9c6d2a-a0d2-4168-b605-0ded697e10ad",
   "metadata": {},
   "outputs": [
    {
     "data": {
      "text/plain": [
       "True"
      ]
     },
     "execution_count": 5,
     "metadata": {},
     "output_type": "execute_result"
    }
   ],
   "source": [
    "5>2"
   ]
  },
  {
   "cell_type": "code",
   "execution_count": 6,
   "id": "e1f8a9b6-3ec5-4923-b26f-5536b43ee3a2",
   "metadata": {},
   "outputs": [
    {
     "data": {
      "text/plain": [
       "False"
      ]
     },
     "execution_count": 6,
     "metadata": {},
     "output_type": "execute_result"
    }
   ],
   "source": [
    "5<2"
   ]
  },
  {
   "cell_type": "code",
   "execution_count": 7,
   "id": "0767f1b6-6c05-4281-8837-ca1036b51bd8",
   "metadata": {},
   "outputs": [
    {
     "data": {
      "text/plain": [
       "'madusha'"
      ]
     },
     "execution_count": 7,
     "metadata": {},
     "output_type": "execute_result"
    }
   ],
   "source": [
    "'madusha'"
   ]
  },
  {
   "cell_type": "code",
   "execution_count": 8,
   "id": "7d9eca68-40fb-4189-bf6e-bb67edadb56e",
   "metadata": {},
   "outputs": [
    {
     "data": {
      "text/plain": [
       "'madusha'"
      ]
     },
     "execution_count": 8,
     "metadata": {},
     "output_type": "execute_result"
    }
   ],
   "source": [
    "\"madusha\""
   ]
  },
  {
   "cell_type": "code",
   "execution_count": 12,
   "id": "2e910a0b-fc48-46e7-927d-f38bdce4ce4c",
   "metadata": {},
   "outputs": [
    {
     "name": "stdout",
     "output_type": "stream",
     "text": [
      "\n",
      "To him,\n",
      "she was rain To her,\n",
      "he was sunshine Together, they made rainbows\n",
      "\n"
     ]
    }
   ],
   "source": [
    "multiline =\"\"\"\n",
    "To him,\n",
    "she was rain To her,\n",
    "he was sunshine Together, they made rainbows\n",
    "\"\"\"\n",
    "print(multiline)"
   ]
  },
  {
   "cell_type": "code",
   "execution_count": 13,
   "id": "f3a17a88-b156-4444-a473-e44555d9ca95",
   "metadata": {},
   "outputs": [
    {
     "data": {
      "text/plain": [
       "\"I've always liked him\""
      ]
     },
     "execution_count": 13,
     "metadata": {},
     "output_type": "execute_result"
    }
   ],
   "source": [
    "\"I've always liked him\""
   ]
  },
  {
   "cell_type": "code",
   "execution_count": 14,
   "id": "99a3844c-5fc6-4b32-8b84-344cdb51cf08",
   "metadata": {},
   "outputs": [
    {
     "data": {
      "text/plain": [
       "'\\nI\\'ve always liked \"him\"\\n'"
      ]
     },
     "execution_count": 14,
     "metadata": {},
     "output_type": "execute_result"
    }
   ],
   "source": [
    "\"\"\"\n",
    "I've always liked \"him\"\n",
    "\"\"\""
   ]
  },
  {
   "cell_type": "code",
   "execution_count": 15,
   "id": "27ad828b-c3ce-4267-94a1-61590abd5f0a",
   "metadata": {},
   "outputs": [
    {
     "data": {
      "text/plain": [
       "str"
      ]
     },
     "execution_count": 15,
     "metadata": {},
     "output_type": "execute_result"
    }
   ],
   "source": [
    "type(multiline)"
   ]
  },
  {
   "cell_type": "code",
   "execution_count": 16,
   "id": "57efc7ff-4f8e-4a7d-99c3-d9a9df47160f",
   "metadata": {},
   "outputs": [
    {
     "name": "stdout",
     "output_type": "stream",
     "text": [
      "Hello\n"
     ]
    }
   ],
   "source": [
    "a = \"Hello world\"\n",
    "print(a[:5])"
   ]
  },
  {
   "cell_type": "code",
   "execution_count": 17,
   "id": "102ad790-3c5f-4b39-b70c-8e1c6b5d71b2",
   "metadata": {},
   "outputs": [
    {
     "name": "stdout",
     "output_type": "stream",
     "text": [
      " \n"
     ]
    }
   ],
   "source": [
    "a = \"Hello world\"\n",
    "print(a[5])"
   ]
  },
  {
   "cell_type": "code",
   "execution_count": 18,
   "id": "d50abcc9-d371-4081-94a1-eb88de38af62",
   "metadata": {},
   "outputs": [
    {
     "name": "stdout",
     "output_type": "stream",
     "text": [
      "w\n"
     ]
    }
   ],
   "source": [
    "a = \"Hello world\"\n",
    "print(a[6])"
   ]
  },
  {
   "cell_type": "code",
   "execution_count": 19,
   "id": "196323b6-49fe-4f3d-bbd3-7b422bf86782",
   "metadata": {},
   "outputs": [
    {
     "name": "stdout",
     "output_type": "stream",
     "text": [
      "ello\n"
     ]
    }
   ],
   "source": [
    "a = \"Hello world\"\n",
    "print(a[1:5])"
   ]
  },
  {
   "cell_type": "code",
   "execution_count": 20,
   "id": "18fa4a4e-cf7e-4548-9330-01ed19d3e95a",
   "metadata": {},
   "outputs": [
    {
     "data": {
      "text/plain": [
       "'Hello worldHello worldHello world'"
      ]
     },
     "execution_count": 20,
     "metadata": {},
     "output_type": "execute_result"
    }
   ],
   "source": [
    "a*3"
   ]
  },
  {
   "cell_type": "code",
   "execution_count": 21,
   "id": "d5a05fc3-a135-4e40-9beb-c0ab4a4647ab",
   "metadata": {},
   "outputs": [
    {
     "data": {
      "text/plain": [
       "'Hello worldHello worldHello world'"
      ]
     },
     "execution_count": 21,
     "metadata": {},
     "output_type": "execute_result"
    }
   ],
   "source": [
    "a+a+a"
   ]
  },
  {
   "cell_type": "code",
   "execution_count": 22,
   "id": "fe6eec0a-53e8-4deb-9709-0d2a4028dd25",
   "metadata": {},
   "outputs": [
    {
     "data": {
      "text/plain": [
       "[1, 2, 3]"
      ]
     },
     "execution_count": 22,
     "metadata": {},
     "output_type": "execute_result"
    }
   ],
   "source": [
    "[1,2,3]"
   ]
  },
  {
   "cell_type": "code",
   "execution_count": 23,
   "id": "048123ac-57af-47de-b8ca-133b6c6c15ea",
   "metadata": {},
   "outputs": [
    {
     "data": {
      "text/plain": [
       "['vanilla', 'chocalate', 'Faluda']"
      ]
     },
     "execution_count": 23,
     "metadata": {},
     "output_type": "execute_result"
    }
   ],
   "source": [
    "['vanilla','chocalate','Faluda']"
   ]
  },
  {
   "cell_type": "code",
   "execution_count": 25,
   "id": "4448b8c7-3b4b-4102-85a7-78a8a055d1d1",
   "metadata": {},
   "outputs": [
    {
     "data": {
      "text/plain": [
       "['vanilla', 'choco', 1, ['mix', 'mango'], True]"
      ]
     },
     "execution_count": 25,
     "metadata": {},
     "output_type": "execute_result"
    }
   ],
   "source": [
    "['vanilla','choco',1,['mix','mango'],True]"
   ]
  },
  {
   "cell_type": "code",
   "execution_count": 26,
   "id": "6efa1f06-79fd-4ba5-a906-67a5f9f6a671",
   "metadata": {},
   "outputs": [
    {
     "data": {
      "text/plain": [
       "['vanilla', 'chocalate', 'Faluda', 'yughurt']"
      ]
     },
     "execution_count": 26,
     "metadata": {},
     "output_type": "execute_result"
    }
   ],
   "source": [
    "ice_cream =['vanilla','chocalate','Faluda']\n",
    "ice_cream.append('yughurt')\n",
    "ice_cream"
   ]
  },
  {
   "cell_type": "code",
   "execution_count": 27,
   "id": "3254b071-f018-4642-9b64-7f24bc270e56",
   "metadata": {},
   "outputs": [
    {
     "data": {
      "text/plain": [
       "['butterscotch', 'chocalate', 'Faluda', 'yughurt']"
      ]
     },
     "execution_count": 27,
     "metadata": {},
     "output_type": "execute_result"
    }
   ],
   "source": [
    "ice_cream[0] = 'butterscotch'\n",
    "ice_cream"
   ]
  },
  {
   "cell_type": "code",
   "execution_count": 30,
   "id": "5a57968d-1fdd-4f61-916b-9e02b95fd837",
   "metadata": {},
   "outputs": [],
   "source": [
    "nested_list = ['vanilla','choco',1,['mix','mango'],True]"
   ]
  },
  {
   "cell_type": "code",
   "execution_count": 31,
   "id": "79380a0c-d1ad-471a-b3a1-9cc0319da1dc",
   "metadata": {},
   "outputs": [
    {
     "data": {
      "text/plain": [
       "'vanilla'"
      ]
     },
     "execution_count": 31,
     "metadata": {},
     "output_type": "execute_result"
    }
   ],
   "source": [
    "nested_list [0]"
   ]
  },
  {
   "cell_type": "code",
   "execution_count": 34,
   "id": "290a5832-8c59-4aea-9c9f-96b4a716d15b",
   "metadata": {},
   "outputs": [
    {
     "data": {
      "text/plain": [
       "['mix', 'mango']"
      ]
     },
     "execution_count": 34,
     "metadata": {},
     "output_type": "execute_result"
    }
   ],
   "source": [
    "nested_list [3]"
   ]
  },
  {
   "cell_type": "code",
   "execution_count": 35,
   "id": "aa53286a-7830-46a7-940b-4795cb748157",
   "metadata": {},
   "outputs": [
    {
     "data": {
      "text/plain": [
       "'mix'"
      ]
     },
     "execution_count": 35,
     "metadata": {},
     "output_type": "execute_result"
    }
   ],
   "source": [
    "nested_list [3][0]"
   ]
  },
  {
   "cell_type": "code",
   "execution_count": 36,
   "id": "d8a6d6bd-3162-403c-8133-4f490c9227a4",
   "metadata": {},
   "outputs": [],
   "source": [
    "new_tuple = (1,2,3,2,4,3)"
   ]
  },
  {
   "cell_type": "code",
   "execution_count": 37,
   "id": "045ba377-4b97-41ec-a3c1-141195af10a5",
   "metadata": {},
   "outputs": [
    {
     "data": {
      "text/plain": [
       "tuple"
      ]
     },
     "execution_count": 37,
     "metadata": {},
     "output_type": "execute_result"
    }
   ],
   "source": [
    "type(new_tuple)"
   ]
  },
  {
   "cell_type": "code",
   "execution_count": 38,
   "id": "b7a4818a-86f6-4280-bbac-163605e480b5",
   "metadata": {},
   "outputs": [
    {
     "data": {
      "text/plain": [
       "2"
      ]
     },
     "execution_count": 38,
     "metadata": {},
     "output_type": "execute_result"
    }
   ],
   "source": [
    "new_tuple[1]"
   ]
  },
  {
   "cell_type": "code",
   "execution_count": 39,
   "id": "94851383-69e4-46ca-af76-6eab06259924",
   "metadata": {},
   "outputs": [
    {
     "name": "stdout",
     "output_type": "stream",
     "text": [
      "{1, 2, 3, 4}\n"
     ]
    }
   ],
   "source": [
    "new_set = {1,2,3,4}\n",
    "print (new_set)"
   ]
  },
  {
   "cell_type": "code",
   "execution_count": 40,
   "id": "dc9badb6-528b-4589-98bc-187f0ac0cc1a",
   "metadata": {},
   "outputs": [
    {
     "name": "stdout",
     "output_type": "stream",
     "text": [
      "{1, 2, 3, 4, 5, 6, 7, 8}\n"
     ]
    }
   ],
   "source": [
    "new_set_two = {1,2,3,4,5,6,7,8,1,2,3,4,5,6,7,8}\n",
    "print(new_set_two)"
   ]
  },
  {
   "cell_type": "code",
   "execution_count": 41,
   "id": "6842a72e-49ed-4f25-935e-c20c4dfd49ef",
   "metadata": {},
   "outputs": [
    {
     "data": {
      "text/plain": [
       "set"
      ]
     },
     "execution_count": 41,
     "metadata": {},
     "output_type": "execute_result"
    }
   ],
   "source": [
    "type(new_set)"
   ]
  },
  {
   "cell_type": "code",
   "execution_count": 42,
   "id": "36a87d4f-c4a1-4d89-b654-808128baa232",
   "metadata": {},
   "outputs": [],
   "source": [
    " my_set = {1,2,3,4,76,89,5,7,90,45,6}"
   ]
  },
  {
   "cell_type": "code",
   "execution_count": 43,
   "id": "9e98f683-2d36-4861-8e8f-8f325a099cfb",
   "metadata": {},
   "outputs": [
    {
     "data": {
      "text/plain": [
       "{1, 2, 3, 4, 5, 6, 7, 8, 45, 76, 89, 90}"
      ]
     },
     "execution_count": 43,
     "metadata": {},
     "output_type": "execute_result"
    }
   ],
   "source": [
    "new_set_two |  my_set"
   ]
  },
  {
   "cell_type": "code",
   "execution_count": 44,
   "id": "ccff8ab3-2883-47a0-a52d-063ccc2fcc7f",
   "metadata": {},
   "outputs": [
    {
     "data": {
      "text/plain": [
       "{1, 2, 3, 4, 5, 6, 7}"
      ]
     },
     "execution_count": 44,
     "metadata": {},
     "output_type": "execute_result"
    }
   ],
   "source": [
    "new_set_two &  my_set"
   ]
  },
  {
   "cell_type": "code",
   "execution_count": 45,
   "id": "69b137bb-9cce-4bf2-8b5b-01497413f01a",
   "metadata": {},
   "outputs": [
    {
     "data": {
      "text/plain": [
       "{8}"
      ]
     },
     "execution_count": 45,
     "metadata": {},
     "output_type": "execute_result"
    }
   ],
   "source": [
    "new_set_two -  my_set"
   ]
  },
  {
   "cell_type": "code",
   "execution_count": 46,
   "id": "1417139c-8293-45da-8105-6603cd7eca9d",
   "metadata": {},
   "outputs": [
    {
     "data": {
      "text/plain": [
       "{45, 76, 89, 90}"
      ]
     },
     "execution_count": 46,
     "metadata": {},
     "output_type": "execute_result"
    }
   ],
   "source": [
    "my_set -  new_set_two"
   ]
  },
  {
   "cell_type": "code",
   "execution_count": 47,
   "id": "7b9abbf9-1d0d-4916-8397-6ab1d889059a",
   "metadata": {},
   "outputs": [
    {
     "data": {
      "text/plain": [
       "{8, 45, 76, 89, 90}"
      ]
     },
     "execution_count": 47,
     "metadata": {},
     "output_type": "execute_result"
    }
   ],
   "source": [
    "new_set_two ^  my_set"
   ]
  },
  {
   "cell_type": "code",
   "execution_count": 48,
   "id": "504e33e5-a60e-4c71-b06f-d3e46715afa2",
   "metadata": {},
   "outputs": [],
   "source": [
    "dict_myself = {'name':'Madusha Dasanayaka','Age':23,'Favorite colors':['pink','white']}"
   ]
  },
  {
   "cell_type": "code",
   "execution_count": 49,
   "id": "a9487d8b-7e72-4adf-bc53-1541a86cc610",
   "metadata": {},
   "outputs": [
    {
     "data": {
      "text/plain": [
       "dict"
      ]
     },
     "execution_count": 49,
     "metadata": {},
     "output_type": "execute_result"
    }
   ],
   "source": [
    "type(dict_myself)"
   ]
  },
  {
   "cell_type": "code",
   "execution_count": 50,
   "id": "ab077c91-5b9f-45d1-9e3b-d49a0a1552e3",
   "metadata": {},
   "outputs": [
    {
     "name": "stdout",
     "output_type": "stream",
     "text": [
      "{'name': 'Madusha Dasanayaka', 'Age': 23, 'Favorite colors': ['pink', 'white']}\n"
     ]
    }
   ],
   "source": [
    "print (dict_myself)"
   ]
  },
  {
   "cell_type": "code",
   "execution_count": 51,
   "id": "30d9152f-0018-40d0-922f-0370d0fb2781",
   "metadata": {},
   "outputs": [
    {
     "data": {
      "text/plain": [
       "dict_values(['Madusha Dasanayaka', 23, ['pink', 'white']])"
      ]
     },
     "execution_count": 51,
     "metadata": {},
     "output_type": "execute_result"
    }
   ],
   "source": [
    "dict_myself.values()"
   ]
  },
  {
   "cell_type": "code",
   "execution_count": 52,
   "id": "ae7352aa-1794-4ac2-9038-9cf32d135d70",
   "metadata": {},
   "outputs": [
    {
     "data": {
      "text/plain": [
       "dict_keys(['name', 'Age', 'Favorite colors'])"
      ]
     },
     "execution_count": 52,
     "metadata": {},
     "output_type": "execute_result"
    }
   ],
   "source": [
    "dict_myself.keys()"
   ]
  },
  {
   "cell_type": "code",
   "execution_count": 53,
   "id": "1fe0e898-4b87-48f4-985e-a8183e1e87b5",
   "metadata": {},
   "outputs": [
    {
     "data": {
      "text/plain": [
       "dict_items([('name', 'Madusha Dasanayaka'), ('Age', 23), ('Favorite colors', ['pink', 'white'])])"
      ]
     },
     "execution_count": 53,
     "metadata": {},
     "output_type": "execute_result"
    }
   ],
   "source": [
    "dict_myself.items()"
   ]
  },
  {
   "cell_type": "code",
   "execution_count": 55,
   "id": "ec8f5f68-4581-4364-8210-b6ff2123144d",
   "metadata": {},
   "outputs": [
    {
     "data": {
      "text/plain": [
       "'Madusha Dasanayaka'"
      ]
     },
     "execution_count": 55,
     "metadata": {},
     "output_type": "execute_result"
    }
   ],
   "source": [
    "dict_myself['name']"
   ]
  },
  {
   "cell_type": "code",
   "execution_count": 56,
   "id": "3a044d14-6916-4409-a5ca-7157318387ee",
   "metadata": {},
   "outputs": [],
   "source": [
    "dict_myself['name'] = 'Darshani Dasanayaka'"
   ]
  },
  {
   "cell_type": "code",
   "execution_count": 57,
   "id": "cb778f55-af98-4231-a726-91bac5770cc9",
   "metadata": {},
   "outputs": [
    {
     "name": "stdout",
     "output_type": "stream",
     "text": [
      "{'name': 'Darshani Dasanayaka', 'Age': 23, 'Favorite colors': ['pink', 'white']}\n"
     ]
    }
   ],
   "source": [
    "print(dict_myself)"
   ]
  },
  {
   "cell_type": "code",
   "execution_count": 64,
   "id": "465a0f48-82bd-4e3c-9f8c-295cce82155c",
   "metadata": {},
   "outputs": [
    {
     "name": "stdout",
     "output_type": "stream",
     "text": [
      "{'name': 'Darshani Dasanayaka', 'Age': 24, 'Favorite colors': ['pink', 'white'], 'weight': 42}\n"
     ]
    }
   ],
   "source": [
    "dict_myself.update({'name': 'Darshani Dasanayaka', 'Age': 24, 'weight': 42})\n",
    "\n",
    "print(dict_myself)"
   ]
  },
  {
   "cell_type": "code",
   "execution_count": 65,
   "id": "591f2c1a-25ef-4f7e-a254-cee614167860",
   "metadata": {},
   "outputs": [],
   "source": [
    "del dict_myself ['weight']"
   ]
  },
  {
   "cell_type": "code",
   "execution_count": 66,
   "id": "12c71659-cb77-4269-b736-677b721caaa0",
   "metadata": {},
   "outputs": [
    {
     "name": "stdout",
     "output_type": "stream",
     "text": [
      "{'name': 'Darshani Dasanayaka', 'Age': 24, 'Favorite colors': ['pink', 'white']}\n"
     ]
    }
   ],
   "source": [
    "print (dict_myself)"
   ]
  }
 ],
 "metadata": {
  "kernelspec": {
   "display_name": "Python 3 (ipykernel)",
   "language": "python",
   "name": "python3"
  },
  "language_info": {
   "codemirror_mode": {
    "name": "ipython",
    "version": 3
   },
   "file_extension": ".py",
   "mimetype": "text/x-python",
   "name": "python",
   "nbconvert_exporter": "python",
   "pygments_lexer": "ipython3",
   "version": "3.12.7"
  }
 },
 "nbformat": 4,
 "nbformat_minor": 5
}
