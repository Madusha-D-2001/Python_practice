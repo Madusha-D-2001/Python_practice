{
 "cells": [
  {
   "cell_type": "markdown",
   "id": "eda01d3d-d82f-42b9-9f20-a58198f92cc7",
   "metadata": {},
   "source": [
    "FOR LOOPS AND NESTED FOR LOOPS"
   ]
  },
  {
   "cell_type": "code",
   "execution_count": 1,
   "id": "b6d4e0cc-7eac-42b3-8570-80147afeabde",
   "metadata": {},
   "outputs": [],
   "source": [
    "integers = [1,2,3,4,5]"
   ]
  },
  {
   "cell_type": "code",
   "execution_count": 2,
   "id": "a1a4dd0a-b394-4d55-a3d8-22a950e3ea77",
   "metadata": {},
   "outputs": [
    {
     "name": "stdout",
     "output_type": "stream",
     "text": [
      "1\n",
      "2\n",
      "3\n",
      "4\n",
      "5\n"
     ]
    }
   ],
   "source": [
    "for numbers in integers:\n",
    "    print(numbers)"
   ]
  },
  {
   "cell_type": "code",
   "execution_count": 3,
   "id": "701e2bf8-9f56-4cd5-b704-a1b3f4990ccc",
   "metadata": {},
   "outputs": [
    {
     "name": "stdout",
     "output_type": "stream",
     "text": [
      "yess!!\n",
      "yess!!\n",
      "yess!!\n",
      "yess!!\n",
      "yess!!\n"
     ]
    }
   ],
   "source": [
    "for numbers in integers:\n",
    "    print(\"yess!!\")"
   ]
  },
  {
   "cell_type": "code",
   "execution_count": 4,
   "id": "1311bc89-ef03-410f-90c8-38e67922e176",
   "metadata": {},
   "outputs": [
    {
     "name": "stdout",
     "output_type": "stream",
     "text": [
      "2\n",
      "4\n",
      "6\n",
      "8\n",
      "10\n"
     ]
    }
   ],
   "source": [
    "for numbers in integers:\n",
    "    print(numbers + numbers)"
   ]
  },
  {
   "cell_type": "code",
   "execution_count": 5,
   "id": "840e298a-52bc-4bed-a56b-f7f2dc3d13da",
   "metadata": {},
   "outputs": [],
   "source": [
    "My_self_dict = {'name':'Madusha Dasanayaka','Age':23,'Gender':'female','favorite colors':['white','pink']}"
   ]
  },
  {
   "cell_type": "code",
   "execution_count": 6,
   "id": "c5fad635-0dd1-41f5-8230-8cfc15b59b5c",
   "metadata": {},
   "outputs": [
    {
     "name": "stdout",
     "output_type": "stream",
     "text": [
      "Madusha Dasanayaka\n",
      "23\n",
      "female\n",
      "['white', 'pink']\n"
     ]
    }
   ],
   "source": [
    "for item in My_self_dict.values():\n",
    "    print(item)\n",
    "    "
   ]
  },
  {
   "cell_type": "code",
   "execution_count": 7,
   "id": "7b912b69-7dc2-4f02-970f-5501d5f503bd",
   "metadata": {},
   "outputs": [
    {
     "name": "stdout",
     "output_type": "stream",
     "text": [
      "name - Madusha Dasanayaka\n",
      "Age - 23\n",
      "Gender - female\n",
      "favorite colors - ['white', 'pink']\n"
     ]
    }
   ],
   "source": [
    "for key,value in My_self_dict.items():\n",
    "    print(key,'-',value)"
   ]
  },
  {
   "cell_type": "code",
   "execution_count": 10,
   "id": "83bd5b17-7450-4f44-b5b9-5df3ec0f1dee",
   "metadata": {},
   "outputs": [],
   "source": [
    "cakes = ['butter','chocolate','ribbon']\n",
    "icing_flavors = ['vanilla','chocolate','coffee']"
   ]
  },
  {
   "cell_type": "code",
   "execution_count": 11,
   "id": "494cf5f9-58df-4f72-b6ba-984bc993e965",
   "metadata": {},
   "outputs": [
    {
     "name": "stdout",
     "output_type": "stream",
     "text": [
      "butter cake with vanilla icing\n",
      "butter cake with chocolate icing\n",
      "butter cake with coffee icing\n",
      "chocolate cake with vanilla icing\n",
      "chocolate cake with chocolate icing\n",
      "chocolate cake with coffee icing\n",
      "ribbon cake with vanilla icing\n",
      "ribbon cake with chocolate icing\n",
      "ribbon cake with coffee icing\n"
     ]
    }
   ],
   "source": [
    "for one in cakes:\n",
    "    for two in icing_flavors:\n",
    "        print(one,'cake with',two,'icing')"
   ]
  },
  {
   "cell_type": "code",
   "execution_count": null,
   "id": "1e166634-62c9-4987-acf4-059398ed828e",
   "metadata": {},
   "outputs": [],
   "source": []
  }
 ],
 "metadata": {
  "kernelspec": {
   "display_name": "Python 3 (ipykernel)",
   "language": "python",
   "name": "python3"
  },
  "language_info": {
   "codemirror_mode": {
    "name": "ipython",
    "version": 3
   },
   "file_extension": ".py",
   "mimetype": "text/x-python",
   "name": "python",
   "nbconvert_exporter": "python",
   "pygments_lexer": "ipython3",
   "version": "3.12.7"
  }
 },
 "nbformat": 4,
 "nbformat_minor": 5
}
