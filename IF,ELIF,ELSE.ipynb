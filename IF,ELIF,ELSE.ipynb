{
 "cells": [
  {
   "cell_type": "markdown",
   "id": "6aa48cb3-cef0-4dae-a672-65fd9fd54f8f",
   "metadata": {},
   "source": [
    "IF,ELIF,ELSE"
   ]
  },
  {
   "cell_type": "code",
   "execution_count": 1,
   "id": "b877ca79-4b9b-4831-8788-7c94282286b0",
   "metadata": {},
   "outputs": [
    {
     "name": "stdout",
     "output_type": "stream",
     "text": [
      "It worked!\n"
     ]
    }
   ],
   "source": [
    "if (20 <50):\n",
    "    print ('It worked!')"
   ]
  },
  {
   "cell_type": "code",
   "execution_count": 4,
   "id": "f6f32a8e-f5c5-4f74-93f6-444ae95693e9",
   "metadata": {},
   "outputs": [
    {
     "name": "stdout",
     "output_type": "stream",
     "text": [
      "It didnot work!!\n"
     ]
    }
   ],
   "source": [
    "if (70 <50):\n",
    "    print ('It worked!')\n",
    "else :\n",
    "    print ('It didnot work!!')"
   ]
  },
  {
   "cell_type": "code",
   "execution_count": 5,
   "id": "3cfeb9ad-d444-409e-98e9-997ddfab1f0f",
   "metadata": {},
   "outputs": [
    {
     "name": "stdout",
     "output_type": "stream",
     "text": [
      "elif worked!\n"
     ]
    }
   ],
   "source": [
    "if (35 >50):\n",
    "    print ('It worked!')\n",
    "elif (35 < 50):\n",
    "    print ('elif worked!')\n",
    "else :\n",
    "    print ('It didnot work!!')"
   ]
  },
  {
   "cell_type": "code",
   "execution_count": 6,
   "id": "93e59ca0-9432-4b9c-aad7-bd73b3843934",
   "metadata": {},
   "outputs": [
    {
     "name": "stdout",
     "output_type": "stream",
     "text": [
      "elif4 worked!\n"
     ]
    }
   ],
   "source": [
    "if (35 >50):\n",
    "    print ('It worked!')\n",
    "elif (35 < 30):\n",
    "    print ('elif1 worked!')\n",
    "elif (35 < 31):\n",
    "    print ('elif2 worked!')\n",
    "elif (35 < 34):\n",
    "    print ('elif3 worked!')\n",
    "elif (35 < 50):\n",
    "    print ('elif4 worked!')\n",
    "else :\n",
    "    print ('It didnot work!!')"
   ]
  },
  {
   "cell_type": "code",
   "execution_count": 7,
   "id": "f8b00bc8-a44d-47a9-8572-8f540804e851",
   "metadata": {},
   "outputs": [
    {
     "name": "stdout",
     "output_type": "stream",
     "text": [
      "It worked!\n"
     ]
    }
   ],
   "source": [
    "if (35 <50) and (40<50):\n",
    "    print ('It worked!')\n",
    "elif (35 < 30):\n",
    "    print ('elif1 worked!')\n",
    "elif (35 < 31):\n",
    "    print ('elif2 worked!')\n",
    "elif (35 < 34):\n",
    "    print ('elif3 worked!')\n",
    "elif (35 < 50):\n",
    "    print ('elif4 worked!')\n",
    "else :\n",
    "    print ('It didnot work!!')"
   ]
  },
  {
   "cell_type": "code",
   "execution_count": 8,
   "id": "effd285a-b695-4c1e-8938-f8fd8e03e073",
   "metadata": {},
   "outputs": [
    {
     "name": "stdout",
     "output_type": "stream",
     "text": [
      "not worked\n"
     ]
    }
   ],
   "source": [
    "print('worked') if (30 >40) else print ('not worked')"
   ]
  },
  {
   "cell_type": "code",
   "execution_count": 9,
   "id": "081b4af3-3cbd-4c77-ac28-1c35aa93696c",
   "metadata": {},
   "outputs": [
    {
     "name": "stdout",
     "output_type": "stream",
     "text": [
      "It worked!\n",
      "nested if statement worked!\n"
     ]
    }
   ],
   "source": [
    "if (35 <50) and (40<50):\n",
    "    print ('It worked!')\n",
    "    if (50 <= 50):\n",
    "        print('nested if statement worked!')\n",
    "elif (35 < 30):\n",
    "    print ('elif1 worked!')\n",
    "elif (35 < 31):\n",
    "    print ('elif2 worked!')\n",
    "elif (35 < 34):\n",
    "    print ('elif3 worked!')\n",
    "elif (35 < 50):\n",
    "    print ('elif4 worked!')\n",
    "else :\n",
    "    print ('It didnot work!!')"
   ]
  }
 ],
 "metadata": {
  "kernelspec": {
   "display_name": "Python 3 (ipykernel)",
   "language": "python",
   "name": "python3"
  },
  "language_info": {
   "codemirror_mode": {
    "name": "ipython",
    "version": 3
   },
   "file_extension": ".py",
   "mimetype": "text/x-python",
   "name": "python",
   "nbconvert_exporter": "python",
   "pygments_lexer": "ipython3",
   "version": "3.12.7"
  }
 },
 "nbformat": 4,
 "nbformat_minor": 5
}
