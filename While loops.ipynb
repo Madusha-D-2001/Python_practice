{
 "cells": [
  {
   "cell_type": "markdown",
   "id": "4b27fb42-7eb7-4a14-8dd8-13ceac9ccbe7",
   "metadata": {},
   "source": [
    "WHILE LOOPS"
   ]
  },
  {
   "cell_type": "code",
   "execution_count": 1,
   "id": "434b99e6-0762-4ebd-b157-19753c816ec9",
   "metadata": {},
   "outputs": [
    {
     "name": "stdout",
     "output_type": "stream",
     "text": [
      "0\n",
      "1\n",
      "2\n",
      "3\n",
      "4\n"
     ]
    }
   ],
   "source": [
    "number = 0\n",
    "while number < 5:\n",
    "    print(number)\n",
    "    number = number +1"
   ]
  },
  {
   "cell_type": "code",
   "execution_count": 4,
   "id": "39d09fd6-48ec-4c3c-91a4-6e4ada675871",
   "metadata": {},
   "outputs": [
    {
     "name": "stdout",
     "output_type": "stream",
     "text": [
      "0\n",
      "1\n",
      "2\n",
      "3\n",
      "3 number met\n"
     ]
    }
   ],
   "source": [
    "number = 0\n",
    "while number < 5:\n",
    "    print(number)\n",
    "    if number == 3:\n",
    "        print (number,'number met')\n",
    "        break\n",
    "    number = number +1"
   ]
  },
  {
   "cell_type": "code",
   "execution_count": 7,
   "id": "35d6614c-f57d-45b9-989f-cf9076bba2d9",
   "metadata": {},
   "outputs": [
    {
     "name": "stdout",
     "output_type": "stream",
     "text": [
      "0\n",
      "1\n",
      "2\n",
      "3\n",
      "4\n",
      "no longer less than 5\n"
     ]
    }
   ],
   "source": [
    "number = 0\n",
    "while number < 5:\n",
    "    print(number)\n",
    "    if number == 5:\n",
    "        print (number,'number met')\n",
    "        break\n",
    "    number = number +1\n",
    "else:\n",
    "    print('no longer less than 5')"
   ]
  },
  {
   "cell_type": "code",
   "execution_count": 20,
   "id": "266a0e3a-850e-4e8c-97b4-9125799288ff",
   "metadata": {},
   "outputs": [
    {
     "name": "stdout",
     "output_type": "stream",
     "text": [
      "1\n",
      "2\n",
      "4\n",
      "5\n",
      "no longer less than 5\n"
     ]
    }
   ],
   "source": [
    "number = 0\n",
    "while number < 5:\n",
    "    number = number +1\n",
    "    if number == 3:\n",
    "       continue\n",
    "    print (number)\n",
    "else:\n",
    "    print('no longer less than 5')\n",
    "    "
   ]
  }
 ],
 "metadata": {
  "kernelspec": {
   "display_name": "Python 3 (ipykernel)",
   "language": "python",
   "name": "python3"
  },
  "language_info": {
   "codemirror_mode": {
    "name": "ipython",
    "version": 3
   },
   "file_extension": ".py",
   "mimetype": "text/x-python",
   "name": "python",
   "nbconvert_exporter": "python",
   "pygments_lexer": "ipython3",
   "version": "3.12.7"
  }
 },
 "nbformat": 4,
 "nbformat_minor": 5
}
