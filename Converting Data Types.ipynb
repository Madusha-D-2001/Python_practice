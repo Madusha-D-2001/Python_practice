{
 "cells": [
  {
   "cell_type": "markdown",
   "id": "5765a20a-216d-4449-9b2c-0208cc1472dc",
   "metadata": {},
   "source": [
    "CONVERTING DATA TYPES"
   ]
  },
  {
   "cell_type": "code",
   "execution_count": 2,
   "id": "b14622fa-bff4-4d81-9624-7184301bfac1",
   "metadata": {},
   "outputs": [
    {
     "data": {
      "text/plain": [
       "int"
      ]
     },
     "execution_count": 2,
     "metadata": {},
     "output_type": "execute_result"
    }
   ],
   "source": [
    "int_num = 6\n",
    "type(int_num)"
   ]
  },
  {
   "cell_type": "code",
   "execution_count": 3,
   "id": "adade581-24be-4ea8-8c85-282499aed19d",
   "metadata": {},
   "outputs": [
    {
     "data": {
      "text/plain": [
       "str"
      ]
     },
     "execution_count": 3,
     "metadata": {},
     "output_type": "execute_result"
    }
   ],
   "source": [
    "str_num = '7'\n",
    "type(str_num)"
   ]
  },
  {
   "cell_type": "code",
   "execution_count": 4,
   "id": "0fe14c9d-a955-46f7-82de-cfbca598d751",
   "metadata": {},
   "outputs": [],
   "source": [
    "str_num_conv = int(str_num)"
   ]
  },
  {
   "cell_type": "code",
   "execution_count": 6,
   "id": "e389a85d-962e-4509-b2f3-41f05a8e1f11",
   "metadata": {},
   "outputs": [
    {
     "data": {
      "text/plain": [
       "int"
      ]
     },
     "execution_count": 6,
     "metadata": {},
     "output_type": "execute_result"
    }
   ],
   "source": [
    "type(str_num_conv)"
   ]
  },
  {
   "cell_type": "code",
   "execution_count": 8,
   "id": "381d4a0a-e749-411a-b5c3-d3957b0a68cf",
   "metadata": {},
   "outputs": [
    {
     "name": "stdout",
     "output_type": "stream",
     "text": [
      "13\n"
     ]
    }
   ],
   "source": [
    "sum_num_int = str_num_conv + int_num\n",
    "print(sum_num_int)"
   ]
  },
  {
   "cell_type": "code",
   "execution_count": 9,
   "id": "6aa7a32e-d874-4af5-902d-4fc81d5c5690",
   "metadata": {},
   "outputs": [
    {
     "data": {
      "text/plain": [
       "list"
      ]
     },
     "execution_count": 9,
     "metadata": {},
     "output_type": "execute_result"
    }
   ],
   "source": [
    "list_type = [1,2,3,4]\n",
    "type(list_type)"
   ]
  },
  {
   "cell_type": "code",
   "execution_count": 10,
   "id": "c07b7fc5-5fc0-4b29-b0ac-d93f7d3ec875",
   "metadata": {},
   "outputs": [
    {
     "data": {
      "text/plain": [
       "(1, 2, 3, 4)"
      ]
     },
     "execution_count": 10,
     "metadata": {},
     "output_type": "execute_result"
    }
   ],
   "source": [
    "tuple(list_type)"
   ]
  },
  {
   "cell_type": "code",
   "execution_count": 11,
   "id": "23241139-47c8-4ac3-beb0-af84f58b2999",
   "metadata": {},
   "outputs": [
    {
     "data": {
      "text/plain": [
       "tuple"
      ]
     },
     "execution_count": 11,
     "metadata": {},
     "output_type": "execute_result"
    }
   ],
   "source": [
    "type(tuple(list_type))"
   ]
  },
  {
   "cell_type": "code",
   "execution_count": 12,
   "id": "332c8dde-a821-467d-af78-713df4628f61",
   "metadata": {},
   "outputs": [
    {
     "data": {
      "text/plain": [
       "{1, 2, 3, 4}"
      ]
     },
     "execution_count": 12,
     "metadata": {},
     "output_type": "execute_result"
    }
   ],
   "source": [
    "list_type = [1,2,3,4,1,2,3,4,1,2,3,4,1,2,3,4]\n",
    "set(list_type)"
   ]
  },
  {
   "cell_type": "code",
   "execution_count": 13,
   "id": "4d8fd6d0-580d-4702-bfc3-d2e9408a47fe",
   "metadata": {},
   "outputs": [
    {
     "data": {
      "text/plain": [
       "set"
      ]
     },
     "execution_count": 13,
     "metadata": {},
     "output_type": "execute_result"
    }
   ],
   "source": [
    "type(set(list_type))"
   ]
  },
  {
   "cell_type": "code",
   "execution_count": 14,
   "id": "1030bfcd-dbf1-45b7-947f-8fa8ae79e00d",
   "metadata": {},
   "outputs": [
    {
     "data": {
      "text/plain": [
       "dict"
      ]
     },
     "execution_count": 14,
     "metadata": {},
     "output_type": "execute_result"
    }
   ],
   "source": [
    "type_dict = {'name':'Madusha','Age':'23','Gender':'Female'}\n",
    "type(type_dict)"
   ]
  },
  {
   "cell_type": "code",
   "execution_count": 15,
   "id": "31e2a8ec-9f4e-4219-8eaf-e8c163d44347",
   "metadata": {},
   "outputs": [
    {
     "name": "stdout",
     "output_type": "stream",
     "text": [
      "dict_items([('name', 'Madusha'), ('Age', '23'), ('Gender', 'Female')])\n"
     ]
    }
   ],
   "source": [
    "print(type_dict.items())"
   ]
  },
  {
   "cell_type": "code",
   "execution_count": 16,
   "id": "7b53b8a7-1015-432f-bdcc-9deed1d4c6bc",
   "metadata": {},
   "outputs": [
    {
     "name": "stdout",
     "output_type": "stream",
     "text": [
      "dict_values(['Madusha', '23', 'Female'])\n"
     ]
    }
   ],
   "source": [
    "print(type_dict.values())"
   ]
  },
  {
   "cell_type": "code",
   "execution_count": 17,
   "id": "0ff5416e-84a9-49e2-bc19-eba350c8c6c7",
   "metadata": {},
   "outputs": [
    {
     "name": "stdout",
     "output_type": "stream",
     "text": [
      "dict_keys(['name', 'Age', 'Gender'])\n"
     ]
    }
   ],
   "source": [
    "print(type_dict.keys())"
   ]
  },
  {
   "cell_type": "code",
   "execution_count": 18,
   "id": "8f1a19e8-d066-4039-8330-7e0dd61dd3ba",
   "metadata": {},
   "outputs": [
    {
     "data": {
      "text/plain": [
       "['name', 'Age', 'Gender']"
      ]
     },
     "execution_count": 18,
     "metadata": {},
     "output_type": "execute_result"
    }
   ],
   "source": [
    "list(type_dict.keys())"
   ]
  },
  {
   "cell_type": "code",
   "execution_count": 19,
   "id": "2d813ce1-cd9a-4d9c-89b7-9c717cc2fab8",
   "metadata": {},
   "outputs": [
    {
     "data": {
      "text/plain": [
       "list"
      ]
     },
     "execution_count": 19,
     "metadata": {},
     "output_type": "execute_result"
    }
   ],
   "source": [
    "type(list(type_dict.keys()))"
   ]
  },
  {
   "cell_type": "code",
   "execution_count": 20,
   "id": "00a62597-9145-4f68-ad38-9e3e767fb3db",
   "metadata": {},
   "outputs": [
    {
     "data": {
      "text/plain": [
       "str"
      ]
     },
     "execution_count": 20,
     "metadata": {},
     "output_type": "execute_result"
    }
   ],
   "source": [
    "long_str = \"I like to watch kdramas\"\n",
    "type(long_str)"
   ]
  },
  {
   "cell_type": "code",
   "execution_count": 21,
   "id": "6423f3b9-80a8-42e2-b0d5-01ce2631b8f3",
   "metadata": {},
   "outputs": [
    {
     "data": {
      "text/plain": [
       "['I',\n",
       " ' ',\n",
       " 'l',\n",
       " 'i',\n",
       " 'k',\n",
       " 'e',\n",
       " ' ',\n",
       " 't',\n",
       " 'o',\n",
       " ' ',\n",
       " 'w',\n",
       " 'a',\n",
       " 't',\n",
       " 'c',\n",
       " 'h',\n",
       " ' ',\n",
       " 'k',\n",
       " 'd',\n",
       " 'r',\n",
       " 'a',\n",
       " 'm',\n",
       " 'a',\n",
       " 's']"
      ]
     },
     "execution_count": 21,
     "metadata": {},
     "output_type": "execute_result"
    }
   ],
   "source": [
    "list(long_str)"
   ]
  },
  {
   "cell_type": "code",
   "execution_count": 22,
   "id": "7c1ad97b-43dc-438f-b2d0-f88679ab7eaf",
   "metadata": {},
   "outputs": [
    {
     "data": {
      "text/plain": [
       "{' ',\n",
       " 'I',\n",
       " 'a',\n",
       " 'c',\n",
       " 'd',\n",
       " 'e',\n",
       " 'h',\n",
       " 'i',\n",
       " 'k',\n",
       " 'l',\n",
       " 'm',\n",
       " 'o',\n",
       " 'r',\n",
       " 's',\n",
       " 't',\n",
       " 'w'}"
      ]
     },
     "execution_count": 22,
     "metadata": {},
     "output_type": "execute_result"
    }
   ],
   "source": [
    "set(long_str)"
   ]
  }
 ],
 "metadata": {
  "kernelspec": {
   "display_name": "Python 3 (ipykernel)",
   "language": "python",
   "name": "python3"
  },
  "language_info": {
   "codemirror_mode": {
    "name": "ipython",
    "version": 3
   },
   "file_extension": ".py",
   "mimetype": "text/x-python",
   "name": "python",
   "nbconvert_exporter": "python",
   "pygments_lexer": "ipython3",
   "version": "3.12.7"
  }
 },
 "nbformat": 4,
 "nbformat_minor": 5
}
